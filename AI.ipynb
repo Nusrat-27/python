{
  "nbformat": 4,
  "nbformat_minor": 0,
  "metadata": {
    "colab": {
      "provenance": []
    },
    "kernelspec": {
      "name": "python3",
      "display_name": "Python 3"
    },
    "language_info": {
      "name": "python"
    }
  },
  "cells": [
    {
      "cell_type": "code",
      "execution_count": null,
      "metadata": {
        "colab": {
          "base_uri": "https://localhost:8080/"
        },
        "id": "U728Co0-yLKK",
        "outputId": "e4a1c50f-e871-4326-9132-b4cfbd43c0de"
      },
      "outputs": [
        {
          "output_type": "stream",
          "name": "stdout",
          "text": [
            "30\n",
            "30\n",
            "15.811388300841896\n",
            "250\n"
          ]
        }
      ],
      "source": [
        "import statistics\n",
        "A = [20,30,40,10,50]\n",
        "mean = statistics.mean(A)\n",
        "print(mean)\n",
        "median = statistics.median(A)\n",
        "print(median)\n",
        "stdev = statistics.stdev(A)\n",
        "print(stdev)\n",
        "variance = statistics.variance(A)\n",
        "print(variance)"
      ]
    }
  ]
}